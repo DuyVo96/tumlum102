{
 "cells": [
  {
   "cell_type": "code",
   "execution_count": 1,
   "metadata": {},
   "outputs": [],
   "source": [
    "import tweepy\n",
    "import pandas as pd\n",
    "import os\n",
    "from dotenv import load_dotenv\n",
    "from pathlib import Path  \n",
    "import os.path\n",
    "\n",
    "load_dotenv()\n",
    "\n",
    "consumer_key = os.getenv('consumer_key')\n",
    "consumer_secret = os.getenv('consumer_secret')\n",
    "access_token = os.getenv('access_token')\n",
    "access_token_secret = os.getenv('access_token_secret')\n",
    "\n",
    "\n",
    "auth = tweepy.OAuthHandler(consumer_key, consumer_secret)\n",
    "auth.set_access_token(access_token, access_token_secret)\n",
    "api = tweepy.API(auth, wait_on_rate_limit=True)\n",
    "\n",
    "followers_scraped = []\n",
    "followers_list = []\n",
    "# name =[\"cz_binance\",\"bayc1871\",\"0xEthanDG\",\"franklinisbored\",\"mrghostinvblog\",\"beijingdou\",\"BombNFTs\",\"KCMontero\",\"CommanderCrypt0\",\"Jampzer\",\"Mr_Monkeyagi\",\"MattInWeb3\",\"hotlneblng_\"]\n",
    "name =[\"cz_binance\"]\n",
    "\n",
    "\n",
    "def scrape_user_followers(username):\n",
    "    for i, _id in enumerate(tweepy.Cursor(api.get_friend_ids,\n",
    "                                          screen_name=username).items()):\n",
    "        followers_scraped.append(_id)\n",
    "    return followers_scraped\n",
    "\n",
    "for x in name:\n",
    "    scrape_user_followers(x)\n",
    "    df = pd.DataFrame(followers_scraped, columns=[\"ID_PROFILE\"\n",
    "                 ])\n",
    "    a = (x,\"csv\")\n",
    "    b = \".\".join(a)\n",
    "    df.to_csv(b,index=False)\n",
    "    \n",
    "\n",
    "\n",
    "\n",
    "\n",
    "# Specify path\n",
    "# path = '/Users/duy/python/tumlum/DVo102.csv'\n",
    "# isExist = os.path.exists(path)\n",
    "\n",
    "# if isExist:\n",
    "#     for x in name:\n",
    "#         scrape_user_followers(x)\n",
    "#         df = pd.DataFrame(followers_scraped, columns=[\"ID_PROFILE\"\n",
    "#                      ])\n",
    "#         a = (x,\"csv\")\n",
    "#         b = \".\".join(a)\n",
    "#         csv_input = pd.read_csv(b)\n",
    "\n",
    "#         df.to_csv(b,index=False)\n",
    "#     print(\"True\")\n",
    "# else: \n",
    "#     print(\"False\")\n",
    "    \n",
    "\n",
    "\n",
    "\n",
    "\n"
   ]
  }
 ],
 "metadata": {
  "kernelspec": {
   "display_name": "Python 3.11.1 64-bit",
   "language": "python",
   "name": "python3"
  },
  "language_info": {
   "codemirror_mode": {
    "name": "ipython",
    "version": 3
   },
   "file_extension": ".py",
   "mimetype": "text/x-python",
   "name": "python",
   "nbconvert_exporter": "python",
   "pygments_lexer": "ipython3",
   "version": "3.11.1"
  },
  "orig_nbformat": 4,
  "vscode": {
   "interpreter": {
    "hash": "aee8b7b246df8f9039afb4144a1f6fd8d2ca17a180786b69acc140d282b71a49"
   }
  }
 },
 "nbformat": 4,
 "nbformat_minor": 2
}

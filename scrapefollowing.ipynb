{
 "cells": [
  {
   "cell_type": "code",
   "execution_count": 28,
   "metadata": {},
   "outputs": [
    {
     "ename": "TypeError",
     "evalue": "str.join() takes exactly one argument (2 given)",
     "output_type": "error",
     "traceback": [
      "\u001b[1;31m---------------------------------------------------------------------------\u001b[0m",
      "\u001b[1;31mTypeError\u001b[0m                                 Traceback (most recent call last)",
      "Cell \u001b[1;32mIn[28], line 42\u001b[0m\n\u001b[0;32m     39\u001b[0m     scrape_user_followers(x)\n\u001b[0;32m     40\u001b[0m     df \u001b[39m=\u001b[39m pd\u001b[39m.\u001b[39mDataFrame(followers_scraped, columns\u001b[39m=\u001b[39m[\u001b[39m\"\u001b[39m\u001b[39mID_PROFILE\u001b[39m\u001b[39m\"\u001b[39m\n\u001b[0;32m     41\u001b[0m                  ])\n\u001b[1;32m---> 42\u001b[0m     a \u001b[39m=\u001b[39m \u001b[39m\"\u001b[39;49m\u001b[39m.\u001b[39;49m\u001b[39m\"\u001b[39;49m\u001b[39m.\u001b[39;49mjoin(x,\u001b[39m\"\u001b[39;49m\u001b[39mcsv\u001b[39;49m\u001b[39m\"\u001b[39;49m)\n\u001b[0;32m     43\u001b[0m     df\u001b[39m.\u001b[39mto_csv(a,index\u001b[39m=\u001b[39m\u001b[39mFalse\u001b[39;00m)\n\u001b[0;32m     51\u001b[0m \u001b[39m# for i in range(len(followers_scraped)):\u001b[39;00m\n\u001b[0;32m     52\u001b[0m \u001b[39m#     followers_list.append(\u001b[39;00m\n\u001b[0;32m     53\u001b[0m \u001b[39m#         [i, api.get_user(user_id=followers_scraped[i]).screen_name])\u001b[39;00m\n\u001b[1;32m   (...)\u001b[0m\n\u001b[0;32m     56\u001b[0m \u001b[39m#                                            ])\u001b[39;00m\n\u001b[0;32m     57\u001b[0m \u001b[39m# df.to_csv(\"data.csv\", index=False)\u001b[39;00m\n",
      "\u001b[1;31mTypeError\u001b[0m: str.join() takes exactly one argument (2 given)"
     ]
    }
   ],
   "source": [
    "import tweepy\n",
    "import pandas as pd\n",
    "import os\n",
    "from dotenv import load_dotenv\n",
    "\n",
    "load_dotenv()\n",
    "\n",
    "consumer_key = os.getenv('consumer_key')\n",
    "consumer_secret = os.getenv('consumer_secret')\n",
    "access_token = os.getenv('access_token')\n",
    "access_token_secret = os.getenv('access_token_secret')\n",
    "\n",
    "\n",
    "auth = tweepy.OAuthHandler(consumer_key, consumer_secret)\n",
    "auth.set_access_token(access_token, access_token_secret)\n",
    "api = tweepy.API(auth, wait_on_rate_limit=True)\n",
    "\n",
    "followers_scraped = []\n",
    "followers_list = []\n",
    "name =[\"cz_binance\",\"0xEthanDG\",\"franklinisbored\",\"mrghostinvblog\",\"beijingdou\",\"BombNFTs\",\"KCMontero\",\"CommanderCrypt0\",\"Jampzer\",\"Mr_Monkeyagi\",\"MattInWeb3\",\"hotlneblng_\"]\n",
    "\n",
    "\n",
    "def scrape_user_followers(username):\n",
    "    for i, _id in enumerate(tweepy.Cursor(api.get_friend_ids,\n",
    "                                          screen_name=username).items()):\n",
    "        # print(i, _id)\n",
    "        followers_scraped.append(_id)\n",
    "    return followers_scraped\n",
    "\n",
    "\n",
    "# scrape_user_followers('cz_binance')\n",
    "# df = pd.DataFrame(followers_scraped, columns=[\"ID_PROFILE\"\n",
    "#                  ])\n",
    "\n",
    "# df.to_csv(\"CZ.csv\",index=False)\n",
    "\n",
    "\n",
    "for x in name:\n",
    "    scrape_user_followers(x)\n",
    "    df = pd.DataFrame(followers_scraped, columns=[\"ID_PROFILE\"\n",
    "                 ])\n",
    "    a = (x,\"csv\")\n",
    "    b = \".\".join(a)\n",
    "    df.to_csv(b,index=False)\n",
    "\n",
    "\n",
    "\n",
    "\n",
    "\n",
    "\n",
    "\n",
    "# for i in range(len(followers_scraped)):\n",
    "#     followers_list.append(\n",
    "#         [i, api.get_user(user_id=followers_scraped[i]).screen_name])\n",
    "\n",
    "# df = pd.DataFrame(followers_list, columns=[\"Id\", \"Name\"\n",
    "#                                            ])\n",
    "# df.to_csv(\"data.csv\", index=False)\n"
   ]
  }
 ],
 "metadata": {
  "kernelspec": {
   "display_name": "Python 3",
   "language": "python",
   "name": "python3"
  },
  "language_info": {
   "codemirror_mode": {
    "name": "ipython",
    "version": 3
   },
   "file_extension": ".py",
   "mimetype": "text/x-python",
   "name": "python",
   "nbconvert_exporter": "python",
   "pygments_lexer": "ipython3",
   "version": "3.11.1"
  },
  "orig_nbformat": 4,
  "vscode": {
   "interpreter": {
    "hash": "08498a88f0fb1f79dd7004a5f61847ebc8ffe61e16c13f54b3402aa061849709"
   }
  }
 },
 "nbformat": 4,
 "nbformat_minor": 2
}

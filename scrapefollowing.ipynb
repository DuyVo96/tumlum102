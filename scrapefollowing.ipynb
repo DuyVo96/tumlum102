{
 "cells": [
  {
   "cell_type": "code",
   "execution_count": 1,
   "metadata": {},
   "outputs": [],
   "source": [
    "import tweepy\n",
    "import pandas as pd\n",
    "import os\n",
    "from dotenv import load_dotenv\n",
    "\n",
    "load_dotenv()\n",
    "\n",
    "consumer_key = os.getenv('consumer_key')\n",
    "consumer_secret = os.getenv('consumer_secret')\n",
    "access_token = os.getenv('access_token')\n",
    "access_token_secret = os.getenv('access_token_secret')\n",
    "\n",
    "\n",
    "auth = tweepy.OAuthHandler(consumer_key, consumer_secret)\n",
    "auth.set_access_token(access_token, access_token_secret)\n",
    "api = tweepy.API(auth, wait_on_rate_limit=True)\n",
    "\n",
    "followers_scraped = []\n",
    "followers_list = []\n",
    "# name =[\"cz_binance\",\"0xEthanDG\",\"franklinisbored\",\"mrghostinvblog\",\"beijingdou\",\"BombNFTs\",\"KCMontero\",\"CommanderCrypt0\",\"Jampzer\",\"Mr_Monkeyagi\",\"MattInWeb3\",\"hotlneblng_\"]\n",
    "# name =[\"beijingdou\",\"franklinisbored\"]\n",
    "name =[\"maxtrixeth\"]\n",
    "\n",
    "\n",
    "def scrape_user_followers(username):\n",
    "    for i, _id in enumerate(tweepy.Cursor(api.get_friend_ids,\n",
    "                                          screen_name=username).items()):\n",
    "        # print(i, _id)\n",
    "        followers_scraped.append(_id)\n",
    "    return followers_scraped\n",
    "\n",
    "\n",
    "# scrape_user_followers('cz_binance')\n",
    "# df = pd.DataFrame(followers_scraped, columns=[\"ID_PROFILE\"\n",
    "#                  ])\n",
    "\n",
    "# df.to_csv(\"CZ.csv\",index=False)\n",
    "\n",
    "\n",
    "for x in name:\n",
    "    scrape_user_followers(x)\n",
    "    df = pd.DataFrame(followers_scraped, columns=[\"ID_PROFILE\"\n",
    "                 ])\n",
    "    a = (x,\"csv\")\n",
    "    b = \".\".join(a)\n",
    "    df.to_csv(b,index=False)\n",
    "\n",
    "\n",
    "\n",
    "\n",
    "\n",
    "\n",
    "\n",
    "# for i in range(len(followers_scraped)):\n",
    "#     followers_list.append(\n",
    "#         [i, api.get_user(user_id=followers_scraped[i]).screen_name])\n",
    "\n",
    "# df = pd.DataFrame(followers_list, columns=[\"Id\", \"Name\"\n",
    "#                                            ])\n",
    "# df.to_csv(\"data.csv\", index=False)\n"
   ]
  }
 ],
 "metadata": {
  "kernelspec": {
   "display_name": "Python 3",
   "language": "python",
   "name": "python3"
  },
  "language_info": {
   "codemirror_mode": {
    "name": "ipython",
    "version": 3
   },
   "file_extension": ".py",
   "mimetype": "text/x-python",
   "name": "python",
   "nbconvert_exporter": "python",
   "pygments_lexer": "ipython3",
   "version": "3.11.1"
  },
  "orig_nbformat": 4,
  "vscode": {
   "interpreter": {
    "hash": "08498a88f0fb1f79dd7004a5f61847ebc8ffe61e16c13f54b3402aa061849709"
   }
  }
 },
 "nbformat": 4,
 "nbformat_minor": 2
}

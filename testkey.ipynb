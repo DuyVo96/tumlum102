{
 "cells": [
  {
   "cell_type": "code",
   "execution_count": 3,
   "metadata": {},
   "outputs": [
    {
     "ename": "TypeError",
     "evalue": "API.update_profile() takes 1 positional argument but 5 were given",
     "output_type": "error",
     "traceback": [
      "\u001b[1;31m---------------------------------------------------------------------------\u001b[0m",
      "\u001b[1;31mTypeError\u001b[0m                                 Traceback (most recent call last)",
      "Cell \u001b[1;32mIn[3], line 19\u001b[0m\n\u001b[0;32m     15\u001b[0m \u001b[39mdef\u001b[39;00m \u001b[39mupdate_profile_info\u001b[39m(name, url, location, description):\n\u001b[0;32m     16\u001b[0m     api\u001b[39m.\u001b[39mupdate_profile(name, url, location, description)\n\u001b[1;32m---> 19\u001b[0m update_profile_info(name\u001b[39m=\u001b[39;49m\u001b[39m\"\u001b[39;49m\u001b[39mdanielvo\u001b[39;49m\u001b[39m\"\u001b[39;49m,url\u001b[39m=\u001b[39;49m\u001b[39m\"\u001b[39;49m\u001b[39mwww.google.com\u001b[39;49m\u001b[39m\"\u001b[39;49m,location\u001b[39m=\u001b[39;49m\u001b[39m\"\u001b[39;49m\u001b[39mEverywhere\u001b[39;49m\u001b[39m\"\u001b[39;49m,description\u001b[39m=\u001b[39;49m\u001b[39m\"\u001b[39;49m\u001b[39mnothing to tell\u001b[39;49m\u001b[39m\"\u001b[39;49m)\n",
      "Cell \u001b[1;32mIn[3], line 16\u001b[0m, in \u001b[0;36mupdate_profile_info\u001b[1;34m(name, url, location, description)\u001b[0m\n\u001b[0;32m     15\u001b[0m \u001b[39mdef\u001b[39;00m \u001b[39mupdate_profile_info\u001b[39m(name, url, location, description):\n\u001b[1;32m---> 16\u001b[0m     api\u001b[39m.\u001b[39;49mupdate_profile(name, url, location, description)\n",
      "File \u001b[1;32mc:\\Users\\Duy\\AppData\\Local\\Programs\\Python\\Python311\\Lib\\site-packages\\tweepy\\api.py:46\u001b[0m, in \u001b[0;36mpayload.<locals>.decorator.<locals>.wrapper\u001b[1;34m(*args, **kwargs)\u001b[0m\n\u001b[0;32m     44\u001b[0m kwargs[\u001b[39m'\u001b[39m\u001b[39mpayload_list\u001b[39m\u001b[39m'\u001b[39m] \u001b[39m=\u001b[39m payload_list\n\u001b[0;32m     45\u001b[0m kwargs[\u001b[39m'\u001b[39m\u001b[39mpayload_type\u001b[39m\u001b[39m'\u001b[39m] \u001b[39m=\u001b[39m payload_type\n\u001b[1;32m---> 46\u001b[0m \u001b[39mreturn\u001b[39;00m method(\u001b[39m*\u001b[39;49margs, \u001b[39m*\u001b[39;49m\u001b[39m*\u001b[39;49mkwargs)\n",
      "\u001b[1;31mTypeError\u001b[0m: API.update_profile() takes 1 positional argument but 5 were given"
     ]
    }
   ],
   "source": [
    "import tweepy\n",
    "\n",
    "consumer_key = \"dXWUf3941KTx2p0eRsbBXI3Tw\"\n",
    "consumer_secret = \"TJMUS5BW6Imy0kMNzcq1ps0R2Q1osvdyDl288HMpQ5KvK1tY0o\"\n",
    "access_token = \"465533586-6N9ZmKc3iEYoEVADbKF3BVZAN9l1swGgbye9fy80\"\n",
    "access_token_secret = \"DP0vSPwttB4bIlpFUXwQlJGv28CXutZIPUgo7ZquiV4sd\"\n",
    "\n",
    "\n",
    "auth = tweepy.OAuth1UserHandler(consumer_key, consumer_secret)\n",
    "auth.set_access_token(access_token, access_token_secret)\n",
    "api = tweepy.API(auth, wait_on_rate_limit=True)\n",
    "\n",
    "\n",
    "\n",
    "def update_profile_info(name, url, location, description):\n",
    "    api.update_profile(name, url, location, description)\n",
    "\n",
    "\n",
    "update_profile_info(name=\"danielvo\",url=\"www.google.com\",location=\"Everywhere\",description=\"nothing to tell\")"
   ]
  }
 ],
 "metadata": {
  "kernelspec": {
   "display_name": "Python 3",
   "language": "python",
   "name": "python3"
  },
  "language_info": {
   "codemirror_mode": {
    "name": "ipython",
    "version": 3
   },
   "file_extension": ".py",
   "mimetype": "text/x-python",
   "name": "python",
   "nbconvert_exporter": "python",
   "pygments_lexer": "ipython3",
   "version": "3.11.1 (tags/v3.11.1:a7a450f, Dec  6 2022, 19:58:39) [MSC v.1934 64 bit (AMD64)]"
  },
  "orig_nbformat": 4,
  "vscode": {
   "interpreter": {
    "hash": "08498a88f0fb1f79dd7004a5f61847ebc8ffe61e16c13f54b3402aa061849709"
   }
  }
 },
 "nbformat": 4,
 "nbformat_minor": 2
}

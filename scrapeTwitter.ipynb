{
 "cells": [
  {
   "cell_type": "code",
   "execution_count": 1,
   "metadata": {},
   "outputs": [],
   "source": [
    "import snscrape.modules.twitter as sntwitter\n",
    "import pandas as pd\n",
    "\n",
    "limit = 1000\n",
    "tweets_list = []\n",
    "\n",
    "\n",
    "\n",
    "name =[\"0xEthanDG\",\"franklinisbored\",\"mrghostinvblog\",\"beijingdou\",\"BombNFTs\",\"KCMontero\",\"CommanderCrypt0\",\"Jampzer\",\"Mr_Monkeyagi\",\"MattInWeb3\",\"hotlneblng_\"]\n",
    "\n",
    "\n",
    "for tweet in sntwitter.TwitterSearchScraper(name[0]).get_items():\n",
    "    if len(tweets_list) == limit:\n",
    "        break\n",
    "    else:\n",
    "        tweets_list.append([tweet.url ,tweet.date, tweet.content, tweet.user.username])\n",
    "\n",
    "df = pd.DataFrame(tweets_list, columns=[\"url\",\"date\", \"content\", \"username\"\n",
    "                 ])\n",
    "\n",
    "df.to_csv(\"tweets_data.csv\",index=False)\n",
    "\n"
   ]
  }
 ],
 "metadata": {
  "kernelspec": {
   "display_name": "Python 3",
   "language": "python",
   "name": "python3"
  },
  "language_info": {
   "codemirror_mode": {
    "name": "ipython",
    "version": 3
   },
   "file_extension": ".py",
   "mimetype": "text/x-python",
   "name": "python",
   "nbconvert_exporter": "python",
   "pygments_lexer": "ipython3",
   "version": "3.11.1 (tags/v3.11.1:a7a450f, Dec  6 2022, 19:58:39) [MSC v.1934 64 bit (AMD64)]"
  },
  "orig_nbformat": 4,
  "vscode": {
   "interpreter": {
    "hash": "08498a88f0fb1f79dd7004a5f61847ebc8ffe61e16c13f54b3402aa061849709"
   }
  }
 },
 "nbformat": 4,
 "nbformat_minor": 2
}

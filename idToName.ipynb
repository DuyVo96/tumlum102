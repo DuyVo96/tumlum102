{
 "cells": [
  {
   "cell_type": "code",
   "execution_count": 1,
   "metadata": {},
   "outputs": [],
   "source": [
    "import tweepy\n",
    "import pandas as pd\n",
    "import os\n",
    "from dotenv import load_dotenv\n",
    "import contants\n",
    "\n",
    "load_dotenv()\n",
    "\n",
    "consumer_key = os.getenv('consumer_key')\n",
    "consumer_secret = os.getenv('consumer_secret')\n",
    "access_token = os.getenv('access_token')\n",
    "access_token_secret = os.getenv('access_token_secret')\n",
    "\n",
    "\n",
    "auth = tweepy.OAuthHandler(consumer_key, consumer_secret)\n",
    "auth.set_access_token(access_token, access_token_secret)\n",
    "api = tweepy.API(auth, wait_on_rate_limit=True)\n",
    "\n",
    "\n",
    "\n",
    "followers_scraped=[\n",
    "]\n",
    "\n",
    "followers_list=[]\n",
    "\n",
    "\n",
    "\n",
    "\n",
    "for i in range(len(contants.new)):\n",
    "    followers_list.append(\n",
    "        [i, api.get_user(user_id=contants.new[i]).screen_name])\n",
    "\n",
    "df = pd.DataFrame(followers_list, columns=[\"Id\", \"Name\"\n",
    "                                           ])\n",
    "df.to_csv(\"data.csv\", index=False)\n"
   ]
  }
 ],
 "metadata": {
  "kernelspec": {
   "display_name": "Python 3.11.1 64-bit",
   "language": "python",
   "name": "python3"
  },
  "language_info": {
   "codemirror_mode": {
    "name": "ipython",
    "version": 3
   },
   "file_extension": ".py",
   "mimetype": "text/x-python",
   "name": "python",
   "nbconvert_exporter": "python",
   "pygments_lexer": "ipython3",
   "version": "3.11.1"
  },
  "orig_nbformat": 4,
  "vscode": {
   "interpreter": {
    "hash": "aee8b7b246df8f9039afb4144a1f6fd8d2ca17a180786b69acc140d282b71a49"
   }
  }
 },
 "nbformat": 4,
 "nbformat_minor": 2
}
